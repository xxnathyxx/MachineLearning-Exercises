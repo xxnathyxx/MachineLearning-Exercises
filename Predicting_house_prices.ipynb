{
 "cells": [
  {
   "cell_type": "markdown",
   "id": "28cb6918",
   "metadata": {},
   "source": [
    "**PROYECTO:** Precios de vivienda con Técnicas avanzadas de regresión.\n",
    "\n",
    "**Objetivo:** Predecir `SalePrice` usando técnicas típicas de competición: EDA, limpieza, feature engineering, selección de modelos, validación cruzada y creación de la submission.\n",
    "\n",
    "**Recomendaciones previas**\n",
    "- Ejecutar en un entorno con las librerías instaladas (`pandas`, `numpy`, `matplotlib`, `seaborn`, `scikit-learn`, `xgboost`/`lightgbm` opcional).\n",
    "- Poner `train.csv` y `test.csv` en el mismo folder o usar Kaggle API."
   ]
  },
  {
   "cell_type": "markdown",
   "id": "47d38053",
   "metadata": {},
   "source": [
    "# 1) Instalación (ejecutar si falta algo)"
   ]
  },
  {
   "cell_type": "code",
   "execution_count": null,
   "id": "241a233c",
   "metadata": {},
   "outputs": [],
   "source": [
    "# !pip install pandas numpy matplotlib seaborn scikit-learn xgboost lightgbm shap --quiet"
   ]
  },
  {
   "cell_type": "markdown",
   "id": "aaa668a1",
   "metadata": {},
   "source": [
    "# 2) Imports"
   ]
  },
  {
   "cell_type": "code",
   "execution_count": null,
   "id": "e265a7d3",
   "metadata": {},
   "outputs": [],
   "source": [
    "import numpy as np\n",
    "import pandas as pd\n",
    "import matplotlib.pyplot as plt\n",
    "import seaborn as sns\n",
    "import os\n",
    "from scipy import stats\n",
    "from scipy.stats import skew\n",
    "from sklearn.model_selection import KFold, cross_val_score, GridSearchCV, RandomizedSearchCV\n",
    "from sklearn.metrics import mean_squared_error\n",
    "from sklearn.preprocessing import StandardScaler, LabelEncoder\n",
    "from sklearn.pipeline import make_pipeline\n",
    "from sklearn.linear_model import Lasso, Ridge\n",
    "from sklearn.ensemble import RandomForestRegressor, GradientBoostingRegressor\n",
    "from sklearn.ensemble import StackingRegressor\n",
    "import joblib\n",
    "import warnings\n",
    "warnings.filterwarnings('ignore')\n",
    "plt.style.use('seaborn')\n",
    "RANDOM_SEED = 42"
   ]
  },
  {
   "cell_type": "markdown",
   "id": "6fe9ad8c",
   "metadata": {},
   "source": [
    "# 3) Cargar datos\n",
    "- Coloca `train.csv` y `test.csv` en el directorio o descárgalos con Kaggle API."
   ]
  },
  {
   "cell_type": "code",
   "execution_count": null,
   "id": "42acc50e",
   "metadata": {},
   "outputs": [],
   "source": [
    "# Si estás en Kaggle o ya tienes los archivos\n",
    "train = pd.read_csv('train.csv')\n",
    "test = pd.read_csv('test.csv')\n",
    "print(\"Train shape:\", train.shape)\n",
    "print(\"Test shape:\", test.shape)\n",
    "train.head()"
   ]
  },
  {
   "cell_type": "markdown",
   "id": "7daa90ee",
   "metadata": {},
   "source": [
    "# 4) Análisis exploratorio básico (EDA)\n",
    "- Ver las primeras filas, tipos, nulos y distribución de la variable objetivo."
   ]
  },
  {
   "cell_type": "code",
   "execution_count": null,
   "id": "aef74a83",
   "metadata": {},
   "outputs": [],
   "source": [
    "# Información y resumen\n",
    "train.info()\n",
    "train.describe().T\n",
    "\n",
    "# Distribución objetivo\n",
    "sns.histplot(train['SalePrice'], kde=True)\n",
    "plt.title('Distribución de SalePrice (bruta)')\n",
    "plt.show()\n",
    "\n",
    "# Prueba de sesgo (skew)\n",
    "print(\"Skew:\", train['SalePrice'].skew())"
   ]
  },
  {
   "cell_type": "markdown",
   "id": "5b9f8dbd",
   "metadata": {},
   "source": [
    "Si la variable objetivo está sesgada (típico en precios), aplicamos `log1p` para estabilizar."
   ]
  },
  {
   "cell_type": "code",
   "execution_count": null,
   "id": "79bd88ba",
   "metadata": {},
   "outputs": [],
   "source": [
    "# Variable objetivo transformada\n",
    "y = np.log1p(train['SalePrice'])\n",
    "sns.histplot(y, kde=True)\n",
    "plt.title('Distribución de log1p(SalePrice)')\n",
    "plt.show()\n",
    "\n",
    "# Valores faltantes (train)\n",
    "missing = train.isnull().sum()\n",
    "missing = missing[missing > 0].sort_values(ascending=False)\n",
    "missing.head(30)"
   ]
  },
  {
   "cell_type": "markdown",
   "id": "89fafbd2",
   "metadata": {},
   "source": [
    "# 5) Preparación: unir train + test para procesado conjunto\n",
    "Esto evita inconsistencias al codificar / escalar.\n"
   ]
  },
  {
   "cell_type": "code",
   "execution_count": null,
   "id": "fbb9dc7b",
   "metadata": {},
   "outputs": [],
   "source": [
    "train_ID = train['Id']\n",
    "test_ID = test['Id']\n",
    "\n",
    "# Guardamos y removemos\n",
    "train.drop(['Id', 'SalePrice'], axis=1, inplace=True)\n",
    "test.drop(['Id'], axis=1, inplace=True)\n",
    "\n",
    "ntrain = train.shape[0]\n",
    "ntest = test.shape[0]\n",
    "all_data = pd.concat([train, test], axis=0).reset_index(drop=True)\n",
    "print(\"all_data shape:\", all_data.shape)"
   ]
  },
  {
   "cell_type": "markdown",
   "id": "6f476267",
   "metadata": {},
   "source": [
    "# 6) Limpieza e imputación específica (ejemplos orientados a House Prices)\n",
    "- Aquí uso reglas comunes (basadas en la naturaleza del dataset). Ajusta según el dataset que uses."
   ]
  },
  {
   "cell_type": "code",
   "execution_count": null,
   "id": "db5f9857",
   "metadata": {},
   "outputs": [],
   "source": [
    "# Ejemplos de imputación comunes en House Prices\n",
    "# 1) Columnas donde NA significa \"None\"\n",
    "cols_none = ['PoolQC','MiscFeature','Alley','Fence','FireplaceQu',\n",
    "             'GarageType','GarageFinish','GarageQual','GarageCond',\n",
    "             'BsmtQual','BsmtCond','BsmtExposure','BsmtFinType1','BsmtFinType2',\n",
    "             'MasVnrType']\n",
    "for col in cols_none:\n",
    "    if col in all_data.columns:\n",
    "        all_data[col] = all_data[col].fillna('None')\n",
    "\n",
    "# 2) Columnas numéricas donde NA significa 0 (áreas, baños del sótano, etc.)\n",
    "cols_zero = ['GarageYrBlt','GarageArea','GarageCars','BsmtFinSF1','BsmtFinSF2',\n",
    "             'BsmtUnfSF','TotalBsmtSF','BsmtFullBath','BsmtHalfBath','MasVnrArea']\n",
    "for col in cols_zero:\n",
    "    if col in all_data.columns:\n",
    "        all_data[col] = all_data[col].fillna(0)\n",
    "\n",
    "# 3) Rellenar por moda para algunas categóricas\n",
    "for col in ['Electrical','MSZoning','KitchenQual','Exterior1st','Exterior2nd','SaleType','Functional']:\n",
    "    if col in all_data.columns:\n",
    "        all_data[col] = all_data[col].fillna(all_data[col].mode()[0])\n",
    "\n",
    "# 4) LotFrontage: imputar por mediana por vecindario (Neighborhood)\n",
    "if 'LotFrontage' in all_data.columns:\n",
    "    all_data['LotFrontage'] = all_data.groupby('Neighborhood')['LotFrontage'] \\\n",
    "                                     .transform(lambda x: x.fillna(x.median()))\n",
    "    # Si aún queda NA\n",
    "    all_data['LotFrontage'] = all_data['LotFrontage'].fillna(all_data['LotFrontage'].median())\n",
    "\n",
    "\n",
    "# Verificar nulos restantes\n",
    "all_data.isnull().sum()[all_data.isnull().sum() > 0].sort_values(ascending=False)"
   ]
  },
  {
   "cell_type": "markdown",
   "id": "ffb3d699",
   "metadata": {},
   "source": [
    "# 7) Feature engineering (típico)\n",
    "- Crear features útiles: años desde construccion, total baños, etc."
   ]
  },
  {
   "cell_type": "code",
   "execution_count": null,
   "id": "ca15739b",
   "metadata": {},
   "outputs": [],
   "source": [
    "# Ejemplos\n",
    "if 'YearBuilt' in all_data.columns and 'YrSold' in all_data.columns:\n",
    "    all_data['HouseAge'] = all_data['YrSold'] - all_data['YearBuilt']\n",
    "\n",
    "# Total full & half baths as a single feature\n",
    "if set(['FullBath','HalfBath','BsmtFullBath','BsmtHalfBath']).issubset(all_data.columns):\n",
    "    all_data['TotalBath'] = (all_data['FullBath'] + 0.5*all_data['HalfBath'] +\n",
    "                             all_data['BsmtFullBath'] + 0.5*all_data['BsmtHalfBath'])\n",
    "\n",
    "# Total square footage\n",
    "if set(['TotalBsmtSF','1stFlrSF','2ndFlrSF']).issubset(all_data.columns):\n",
    "    all_data['TotalSF'] = all_data['TotalBsmtSF'] + all_data['1stFlrSF'] + all_data['2ndFlrSF']"
   ]
  },
  {
   "cell_type": "markdown",
   "id": "dd5ea079",
   "metadata": {},
   "source": [
    "# 8) Tratamiento de variables categóricas ordinales\n",
    "Algunas características (calidades) son ordinales: mapearlas a números."
   ]
  },
  {
   "cell_type": "code",
   "execution_count": null,
   "id": "f49bf99d",
   "metadata": {},
   "outputs": [],
   "source": [
    "qual_map = {'Ex':5, 'Gd':4, 'TA':3, 'Fa':2, 'Po':1, 'None':0}\n",
    "qual_cols = ['ExterQual','ExterCond','BsmtQual','BsmtCond','HeatingQC','KitchenQual',\n",
    "             'FireplaceQu','GarageQual','GarageCond','PoolQC']\n",
    "for col in qual_cols:\n",
    "    if col in all_data.columns:\n",
    "        all_data[col] = all_data[col].map(qual_map).fillna(0)"
   ]
  },
  {
   "cell_type": "markdown",
   "id": "60657410",
   "metadata": {},
   "source": [
    "# 9) One-hot encoding para categóricas restantes"
   ]
  },
  {
   "cell_type": "code",
   "execution_count": null,
   "id": "cd0695b3",
   "metadata": {},
   "outputs": [],
   "source": [
    "# Identificar columnas categóricas\n",
    "categorical_cols = all_data.select_dtypes(include=['object']).columns\n",
    "print(\"Categorical columns:\", len(categorical_cols))\n",
    "\n",
    "# One-hot encoding (pd.get_dummies)\n",
    "all_data = pd.get_dummies(all_data, columns=categorical_cols, drop_first=True)\n",
    "print(\"Shape after dummies:\", all_data.shape)"
   ]
  },
  {
   "cell_type": "markdown",
   "id": "3dbaf0d4",
   "metadata": {},
   "source": [
    "# 10) Corregir skew en variables numéricas\n",
    "Aplicar log1p a features numéricos muy sesgados.\n"
   ]
  },
  {
   "cell_type": "code",
   "execution_count": null,
   "id": "59fb1891",
   "metadata": {},
   "outputs": [],
   "source": [
    "numeric_feats = all_data.dtypes[all_data.dtypes != \"object\"].index\n",
    "\n",
    "skewed_feats = all_data[numeric_feats].apply(lambda x: skew(x.dropna())).sort_values(ascending=False)\n",
    "skewness = pd.DataFrame({'Skew': skewed_feats})\n",
    "skewed_features = skewness[abs(skewness['Skew']) > 0.75].index\n",
    "\n",
    "for feat in skewed_features:\n",
    "    all_data[feat] = np.log1p(all_data[feat])"
   ]
  },
  {
   "cell_type": "markdown",
   "id": "1fc03176",
   "metadata": {},
   "source": [
    "# 11) Separar de nuevo train / test y preparar X e y\n"
   ]
  },
  {
   "cell_type": "code",
   "execution_count": null,
   "id": "076d9a67",
   "metadata": {},
   "outputs": [],
   "source": [
    "# Split\n",
    "X = all_data[:ntrain]\n",
    "X_test = all_data[ntrain:]\n",
    "print(\"X shape:\", X.shape, \"X_test shape:\", X_test.shape)\n",
    "\n",
    "# Target (transformado)\n",
    "y = np.log1p(train['SalePrice'])  # record: train variable anterior"
   ]
  },
  {
   "cell_type": "markdown",
   "id": "c91e0f2c",
   "metadata": {},
   "source": [
    "# 12) Validación: función RMSE CV"
   ]
  },
  {
   "cell_type": "code",
   "execution_count": null,
   "id": "aeb2f28c",
   "metadata": {},
   "outputs": [],
   "source": [
    "from sklearn.model_selection import KFold, cross_val_score\n",
    "\n",
    "def rmse_cv(model, X, y):\n",
    "    kf = KFold(n_splits=5, shuffle=True, random_state=RANDOM_SEED)\n",
    "    rmse = np.sqrt(-cross_val_score(model, X, y, scoring=\"neg_mean_squared_error\", cv=kf))\n",
    "    return rmse"
   ]
  },
  {
   "cell_type": "markdown",
   "id": "d9adea2e",
   "metadata": {},
   "source": [
    "# 13) Modelos base: Lasso, RandomForest, GradientBoosting, XGBoost (si está)"
   ]
  },
  {
   "cell_type": "code",
   "execution_count": null,
   "id": "973e72ec",
   "metadata": {},
   "outputs": [],
   "source": [
    "# Lasso\n",
    "lasso = make_pipeline(StandardScaler(), Lasso(alpha=0.0005, random_state=RANDOM_SEED))\n",
    "\n",
    "# RandomForest\n",
    "rf = RandomForestRegressor(n_estimators=300, random_state=RANDOM_SEED, n_jobs=-1)\n",
    "\n",
    "# Gradient Boosting\n",
    "gbr = GradientBoostingRegressor(n_estimators=300, learning_rate=0.05, max_depth=4, random_state=RANDOM_SEED)\n",
    "\n",
    "# XGBoost (opcional)\n",
    "try:\n",
    "    import xgboost as xgb\n",
    "    xgb_model = xgb.XGBRegressor(n_estimators=1000, learning_rate=0.05, max_depth=3, subsample=0.8,\n",
    "                                 colsample_bytree=0.8, random_state=RANDOM_SEED, n_jobs=-1)\n",
    "    has_xgb = True\n",
    "except Exception as e:\n",
    "    print(\"XGBoost no está instalado o dio error:\", e)\n",
    "    xgb_model = None\n",
    "    has_xgb = False\n",
    "\n",
    "# Validación de modelos\n",
    "models = [('Lasso', lasso), ('RandomForest', rf), ('GradientBoosting', gbr)]\n",
    "if has_xgb:\n",
    "    models.append(('XGBoost', xgb_model))\n",
    "\n",
    "results = []\n",
    "for name, model in models:\n",
    "    score = rmse_cv(model, X, y)\n",
    "    results.append((name, score.mean(), score.std()))\n",
    "    print(f\"{name} RMSE: {score.mean():.5f} (std {score.std():.5f})\")\n",
    "\n",
    "results_df = pd.DataFrame(results, columns=['Model','RMSE_mean','RMSE_std']).sort_values('RMSE_mean')\n",
    "results_df"
   ]
  },
  {
   "cell_type": "markdown",
   "id": "b1bf98ea",
   "metadata": {},
   "source": [
    "# 14) Mejoras: búsqueda rápida de hiperparámetros (ejemplo Lasso o XGBoost)\n",
    "- Por economía de tiempo, uso RandomizedSearch para XGBoost si está disponible."
   ]
  },
  {
   "cell_type": "code",
   "execution_count": null,
   "id": "b5190e35",
   "metadata": {},
   "outputs": [],
   "source": [
    "# Ejemplo: búsqueda para XGBoost (rápida)\n",
    "if has_xgb:\n",
    "    param_dist = {\n",
    "        'n_estimators': [500, 800, 1000],\n",
    "        'learning_rate': [0.01, 0.03, 0.05],\n",
    "        'max_depth': [3,4,5],\n",
    "        'subsample': [0.6, 0.8, 1.0],\n",
    "        'colsample_bytree': [0.6, 0.8, 1.0]\n",
    "    }\n",
    "    rs = RandomizedSearchCV(xgb_model, param_distributions=param_dist, n_iter=10,\n",
    "                            scoring='neg_mean_squared_error', cv=3, random_state=RANDOM_SEED, n_jobs=-1)\n",
    "    rs.fit(X, y)\n",
    "    print(\"Best params XGB:\", rs.best_params_)\n",
    "    best_xgb = rs.best_estimator_\n",
    "else:\n",
    "    best_xgb = None"
   ]
  },
  {
   "cell_type": "markdown",
   "id": "903d8dba",
   "metadata": {},
   "source": [
    "# 15) Ensamblado simple: promedio (blending) o stacking\n",
    "- Aquí hago un stacking ligero usando sklearn StackingRegressor (base: Lasso + GBR + XGB si hay)."
   ]
  },
  {
   "cell_type": "code",
   "execution_count": null,
   "id": "8514029d",
   "metadata": {},
   "outputs": [],
   "source": [
    "estimators = [('lasso', lasso), ('gbr', gbr)]\n",
    "if has_xgb:\n",
    "    estimators.append(('xgb', xgb_model))\n",
    "\n",
    "stack = StackingRegressor(estimators=estimators, final_estimator=Ridge(), cv=5, n_jobs=-1)\n",
    "stack_score = rmse_cv(stack, X, y)\n",
    "print(\"Stacking RMSE:\", stack_score.mean(), \"std:\", stack_score.std())"
   ]
  },
  {
   "cell_type": "markdown",
   "id": "ff203712",
   "metadata": {},
   "source": [
    "# 16) Ajuste final y predicción sobre test\n",
    "- Ajustar el mejor modelo (o combinación) sobre todo el train y predecir."
   ]
  },
  {
   "cell_type": "code",
   "execution_count": null,
   "id": "8dae1213",
   "metadata": {},
   "outputs": [],
   "source": [
    "# Selecciona modelo final (ejemplo: stack si va bien, si no usa la mejor según CV)\n",
    "final_model = stack\n",
    "final_model.fit(X, y)\n",
    "preds_log = final_model.predict(X_test)\n",
    "# revertir log(1+x)\n",
    "preds = np.expm1(preds_log)\n",
    "\n",
    "# Crear archivo submission\n",
    "submission = pd.DataFrame({'Id': test_ID, 'SalePrice': preds})\n",
    "submission.to_csv('submission.csv', index=False)\n",
    "print(\"Submission creada: submission.csv (ejemplo, revisa los primeros registros)\")\n",
    "submission.head()"
   ]
  },
  {
   "cell_type": "markdown",
   "id": "ab84cabe",
   "metadata": {},
   "source": [
    "# 17) Guardar modelo"
   ]
  },
  {
   "cell_type": "code",
   "execution_count": null,
   "id": "7ed87e99",
   "metadata": {},
   "outputs": [],
   "source": [
    "joblib.dump(final_model, \"final_model_stack.pkl\")\n",
    "print(\"Modelo guardado en final_model_stack.pkl\")"
   ]
  },
  {
   "cell_type": "markdown",
   "id": "96978250",
   "metadata": {},
   "source": [
    "# 18) Ideas para mejorar (lista de verificación)\n",
    "- Feature engineering más profundo (interacciones, polinomios)\n",
    "- Uso de LightGBM, CatBoost y tuning con Bayesian optimization (Optuna)\n",
    "- Stacking avanzado (blending con out-of-fold predictions)\n",
    "- Selección/regularización de features (RFE / L1)\n",
    "- Análisis de errores: casos con mayor error, outliers\n",
    "- Usar validación por tiempo o por grupos (si aplica)\n",
    "- Añadir variables externas (censo, clima, ubicación)"
   ]
  },
  {
   "cell_type": "markdown",
   "id": "c48ddd2d",
   "metadata": {},
   "source": [
    "# 19) Consejos para competiciones Kaggle\n",
    "- Siempre valida localmente con CV antes de subir.\n",
    "- Usa seed constante para reproducibilidad.\n",
    "- Revisa que `Id` en la submission corresponda al de `test.csv`.\n",
    "- Sube varias soluciones (blends) y compara en Public/Private leaderboard.\n",
    "- Documenta tu pipeline para replicarlo en entrevistas / portafolio."
   ]
  }
 ],
 "metadata": {
  "language_info": {
   "name": "python"
  }
 },
 "nbformat": 4,
 "nbformat_minor": 5
}
